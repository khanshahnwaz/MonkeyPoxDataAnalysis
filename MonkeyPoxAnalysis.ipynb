{
 "cells": [
  {
   "cell_type": "code",
   "execution_count": 215,
   "metadata": {},
   "outputs": [],
   "source": [
    "import pandas as pd\n",
    "import numpy as np"
   ]
  },
  {
   "cell_type": "markdown",
   "metadata": {},
   "source": [
    "Load Dataset"
   ]
  },
  {
   "cell_type": "code",
   "execution_count": 216,
   "metadata": {},
   "outputs": [],
   "source": [
    "monkeyPox_data=pd.read_csv('Worldwide_Case_Detection_Timeline.csv')"
   ]
  },
  {
   "cell_type": "markdown",
   "metadata": {},
   "source": [
    "Our dataset contains the data of individual person. "
   ]
  },
  {
   "cell_type": "markdown",
   "metadata": {},
   "source": [
    "Information of monkeyPox_dataset"
   ]
  },
  {
   "cell_type": "code",
   "execution_count": 217,
   "metadata": {},
   "outputs": [
    {
     "name": "stdout",
     "output_type": "stream",
     "text": [
      "<class 'pandas.core.frame.DataFrame'>\n",
      "RangeIndex: 46863 entries, 0 to 46862\n",
      "Data columns (total 9 columns):\n",
      " #   Column                   Non-Null Count  Dtype \n",
      "---  ------                   --------------  ----- \n",
      " 0   Date_confirmation        46863 non-null  object\n",
      " 1   Country                  46863 non-null  object\n",
      " 2   City                     1146 non-null   object\n",
      " 3   Age                      2698 non-null   object\n",
      " 4   Gender                   2207 non-null   object\n",
      " 5   Symptoms                 278 non-null    object\n",
      " 6   Hospitalised (Y/N/NA)    413 non-null    object\n",
      " 7   Isolated (Y/N/NA)        582 non-null    object\n",
      " 8   Travel_history (Y/N/NA)  419 non-null    object\n",
      "dtypes: object(9)\n",
      "memory usage: 3.2+ MB\n"
     ]
    }
   ],
   "source": [
    "monkeyPox_data.info()"
   ]
  },
  {
   "cell_type": "markdown",
   "metadata": {},
   "source": [
    "Information of country_wise dataset"
   ]
  },
  {
   "cell_type": "markdown",
   "metadata": {},
   "source": [
    "Null values in individual dataset row-wise"
   ]
  },
  {
   "cell_type": "code",
   "execution_count": 218,
   "metadata": {},
   "outputs": [
    {
     "data": {
      "text/plain": [
       "0        7\n",
       "1        7\n",
       "2        7\n",
       "3        6\n",
       "4        6\n",
       "        ..\n",
       "46858    7\n",
       "46859    7\n",
       "46860    7\n",
       "46861    7\n",
       "46862    7\n",
       "Length: 46863, dtype: int64"
      ]
     },
     "execution_count": 218,
     "metadata": {},
     "output_type": "execute_result"
    }
   ],
   "source": [
    "monkeyPox_data.isnull().sum(axis=1)"
   ]
  },
  {
   "cell_type": "markdown",
   "metadata": {},
   "source": [
    "monkeyPox_dataset has 9 columns. If ther are rows that have more than 6 or 7 null values and number of those rows are high then there is no use of those rows. So, check how many rows fall in this category and discard them."
   ]
  },
  {
   "cell_type": "code",
   "execution_count": 219,
   "metadata": {},
   "outputs": [
    {
     "data": {
      "text/plain": [
       "44679"
      ]
     },
     "execution_count": 219,
     "metadata": {},
     "output_type": "execute_result"
    }
   ],
   "source": [
    "len(monkeyPox_data.loc[monkeyPox_data.isnull().sum(axis=1)>=6])"
   ]
  },
  {
   "cell_type": "markdown",
   "metadata": {},
   "source": [
    "For better analysis, use rows that have minimum number of null values."
   ]
  },
  {
   "cell_type": "code",
   "execution_count": 220,
   "metadata": {},
   "outputs": [],
   "source": [
    "monkeyPox_data=monkeyPox_data.loc[monkeyPox_data.isnull().sum(axis=1)<=len(monkeyPox_data.columns)/2]"
   ]
  },
  {
   "cell_type": "code",
   "execution_count": 221,
   "metadata": {},
   "outputs": [
    {
     "name": "stdout",
     "output_type": "stream",
     "text": [
      "<class 'pandas.core.frame.DataFrame'>\n",
      "Int64Index: 977 entries, 26 to 45642\n",
      "Data columns (total 9 columns):\n",
      " #   Column                   Non-Null Count  Dtype \n",
      "---  ------                   --------------  ----- \n",
      " 0   Date_confirmation        977 non-null    object\n",
      " 1   Country                  977 non-null    object\n",
      " 2   City                     642 non-null    object\n",
      " 3   Age                      836 non-null    object\n",
      " 4   Gender                   907 non-null    object\n",
      " 5   Symptoms                 264 non-null    object\n",
      " 6   Hospitalised (Y/N/NA)    347 non-null    object\n",
      " 7   Isolated (Y/N/NA)        444 non-null    object\n",
      " 8   Travel_history (Y/N/NA)  348 non-null    object\n",
      "dtypes: object(9)\n",
      "memory usage: 76.3+ KB\n"
     ]
    }
   ],
   "source": [
    "monkeyPox_data.info()"
   ]
  },
  {
   "cell_type": "code",
   "execution_count": 222,
   "metadata": {},
   "outputs": [
    {
     "name": "stdout",
     "output_type": "stream",
     "text": [
      "(977, 9)\n"
     ]
    }
   ],
   "source": [
    "print(monkeyPox_data.shape)\n",
    "monkeyPox_data.reset_index(inplace=True)"
   ]
  },
  {
   "cell_type": "markdown",
   "metadata": {},
   "source": [
    "All attributes are object type. We can fill missing values of with the maximum frequency value of the corresponding value. But in case of City, we need to take care of valid country,city combinations."
   ]
  },
  {
   "cell_type": "code",
   "execution_count": 223,
   "metadata": {},
   "outputs": [],
   "source": [
    "temp=monkeyPox_data.groupby('Country')['City'].count()\n"
   ]
  },
  {
   "cell_type": "code",
   "execution_count": 224,
   "metadata": {},
   "outputs": [
    {
     "data": {
      "text/plain": [
       "Index(['Argentina', 'Australia', 'Austria', 'Bahamas', 'Barbados', 'Belgium',\n",
       "       'Bolivia', 'Brazil', 'Bulgaria', 'Canada', 'Chile', 'Colombia',\n",
       "       'Costa Rica', 'Croatia', 'Cuba', 'Cyprus', 'Czech Republic', 'Denmark',\n",
       "       'Dominican Republic', 'Ecuador', 'England', 'Finland', 'France',\n",
       "       'Germany', 'Gibraltar', 'Greece', 'Guatemala', 'Guyana', 'Honduras',\n",
       "       'Hungary', 'Iceland', 'India', 'Indonesia', 'Ireland', 'Israel',\n",
       "       'Italy', 'Jamaica', 'Japan', 'Lebanon', 'Liberia', 'Malta', 'Mexico',\n",
       "       'Moldova', 'Netherlands', 'Panama', 'Peru', 'Philippines', 'Poland',\n",
       "       'Portugal', 'Puerto Rico', 'Romania', 'Saudi Arabia', 'Scotland',\n",
       "       'Singapore', 'Slovakia', 'Slovenia', 'South Africa', 'South Korea',\n",
       "       'Spain', 'Sweden', 'Switzerland', 'Taiwan', 'Thailand', 'Turkey',\n",
       "       'United Arab Emirates', 'United States', 'Venezuela'],\n",
       "      dtype='object', name='Country')"
      ]
     },
     "execution_count": 224,
     "metadata": {},
     "output_type": "execute_result"
    }
   ],
   "source": [
    "temp.index"
   ]
  },
  {
   "cell_type": "code",
   "execution_count": null,
   "metadata": {},
   "outputs": [],
   "source": [
    "temp['Canada']"
   ]
  },
  {
   "cell_type": "code",
   "execution_count": 226,
   "metadata": {},
   "outputs": [
    {
     "data": {
      "text/plain": [
       "34"
      ]
     },
     "execution_count": 226,
     "metadata": {},
     "output_type": "execute_result"
    }
   ],
   "source": [
    "rough=[]\n",
    "for i in temp.index:\n",
    "    # print(temp[i])\n",
    "    if(temp[i]==0):\n",
    "        rough.append(i)\n",
    "len(rough)"
   ]
  },
  {
   "cell_type": "code",
   "execution_count": 227,
   "metadata": {},
   "outputs": [],
   "source": [
    "monkeyPox_data.drop(monkeyPox_data.loc[monkeyPox_data['Country'].map(lambda x: True if x in rough else False) ].index,inplace=True)"
   ]
  },
  {
   "cell_type": "code",
   "execution_count": 228,
   "metadata": {},
   "outputs": [
    {
     "data": {
      "text/plain": [
       "(892, 10)"
      ]
     },
     "execution_count": 228,
     "metadata": {},
     "output_type": "execute_result"
    }
   ],
   "source": [
    "monkeyPox_data.shape"
   ]
  },
  {
   "cell_type": "code",
   "execution_count": 229,
   "metadata": {},
   "outputs": [],
   "source": [
    "countries=monkeyPox_data['Country'].unique()"
   ]
  },
  {
   "cell_type": "code",
   "execution_count": 230,
   "metadata": {},
   "outputs": [
    {
     "data": {
      "text/plain": [
       "array(['England', 'Portugal', 'Spain', 'United States', 'Belgium',\n",
       "       'Germany', 'Canada', 'Italy', 'Sweden', 'France', 'Australia',\n",
       "       'Switzerland', 'Israel', 'Austria', 'Czech Republic', 'Finland',\n",
       "       'Argentina', 'Mexico', 'Gibraltar', 'Brazil', 'Poland', 'Romania',\n",
       "       'Hungary', 'Chile', 'South Korea', 'South Africa', 'Colombia',\n",
       "       'Peru', 'Dominican Republic', 'Saudi Arabia', 'India', 'Thailand',\n",
       "       'Guatemala'], dtype=object)"
      ]
     },
     "execution_count": 230,
     "metadata": {},
     "output_type": "execute_result"
    }
   ],
   "source": [
    "countries"
   ]
  },
  {
   "cell_type": "code",
   "execution_count": 231,
   "metadata": {},
   "outputs": [],
   "source": [
    "temp=monkeyPox_data.set_index('Country')['City']"
   ]
  },
  {
   "cell_type": "code",
   "execution_count": 240,
   "metadata": {},
   "outputs": [
    {
     "data": {
      "text/plain": [
       "'Guatemala City'"
      ]
     },
     "execution_count": 240,
     "metadata": {},
     "output_type": "execute_result"
    }
   ],
   "source": [
    "list(set(temp['Guatemala'].values))[0]"
   ]
  },
  {
   "cell_type": "code",
   "execution_count": 232,
   "metadata": {},
   "outputs": [
    {
     "name": "stdout",
     "output_type": "stream",
     "text": [
      "Country\n",
      "England        London\n",
      "England        London\n",
      "England        London\n",
      "England        London\n",
      "England        London\n",
      "England     Newcastle\n",
      "England        London\n",
      "England    South East\n",
      "England        London\n",
      "England           NaN\n",
      "England           NaN\n",
      "England           NaN\n",
      "England           NaN\n",
      "England           NaN\n",
      "England           NaN\n",
      "England           NaN\n",
      "England           NaN\n",
      "Name: City, dtype: object\n",
      "Country\n",
      "Portugal    Lisbon\n",
      "Portugal    Lisbon\n",
      "Portugal    Lisbon\n",
      "Portugal    Lisbon\n",
      "Portugal    Lisbon\n",
      "Portugal    Lisbon\n",
      "Portugal    Lisbon\n",
      "Portugal    Lisbon\n",
      "Portugal    Lisbon\n",
      "Portugal    Lisbon\n",
      "Portugal    Lisbon\n",
      "Portugal    Lisbon\n",
      "Portugal    Lisbon\n",
      "Portugal    Lisbon\n",
      "Portugal    Lisbon\n",
      "Portugal    Lisbon\n",
      "Portugal    Lisbon\n",
      "Portugal    Lisbon\n",
      "Portugal    Lisbon\n",
      "Portugal    Lisbon\n",
      "Portugal       NaN\n",
      "Portugal       NaN\n",
      "Portugal       NaN\n",
      "Portugal       NaN\n",
      "Portugal       NaN\n",
      "Portugal       NaN\n",
      "Portugal       NaN\n",
      "Portugal       NaN\n",
      "Portugal       NaN\n",
      "Portugal       NaN\n",
      "Portugal       NaN\n",
      "Portugal       NaN\n",
      "Portugal       NaN\n",
      "Portugal       NaN\n",
      "Portugal       NaN\n",
      "Portugal       NaN\n",
      "Portugal       NaN\n",
      "Portugal       NaN\n",
      "Portugal       NaN\n",
      "Portugal       NaN\n",
      "Portugal       NaN\n",
      "Portugal       NaN\n",
      "Portugal       NaN\n",
      "Portugal       NaN\n",
      "Portugal       NaN\n",
      "Portugal       NaN\n",
      "Portugal       NaN\n",
      "Portugal       NaN\n",
      "Portugal       NaN\n",
      "Portugal       NaN\n",
      "Portugal       NaN\n",
      "Portugal       NaN\n",
      "Portugal       NaN\n",
      "Portugal       NaN\n",
      "Portugal       NaN\n",
      "Portugal       NaN\n",
      "Portugal       NaN\n",
      "Portugal       NaN\n",
      "Portugal       NaN\n",
      "Name: City, dtype: object\n",
      "Country\n",
      "Spain          Madrid\n",
      "Spain          Madrid\n",
      "Spain          Madrid\n",
      "Spain          Madrid\n",
      "Spain          Madrid\n",
      "Spain          Madrid\n",
      "Spain          Madrid\n",
      "Spain          Madrid\n",
      "Spain          Madrid\n",
      "Spain          Madrid\n",
      "Spain          Madrid\n",
      "Spain          Madrid\n",
      "Spain          Madrid\n",
      "Spain          Madrid\n",
      "Spain          Madrid\n",
      "Spain          Madrid\n",
      "Spain          Madrid\n",
      "Spain          Madrid\n",
      "Spain          Madrid\n",
      "Spain          Madrid\n",
      "Spain          Madrid\n",
      "Spain          Madrid\n",
      "Spain    Gran Canaria\n",
      "Spain             NaN\n",
      "Spain             NaN\n",
      "Spain        Tenerife\n",
      "Spain          Madrid\n",
      "Spain          Madrid\n",
      "Spain          Madrid\n",
      "Spain          Madrid\n",
      "Spain          Madrid\n",
      "Spain          Madrid\n",
      "Spain          Madrid\n",
      "Spain          Madrid\n",
      "Spain          Madrid\n",
      "Spain          Madrid\n",
      "Spain          Madrid\n",
      "Spain          Aragon\n",
      "Spain           Cadiz\n",
      "Spain         Seville\n",
      "Spain    Gran Canaria\n",
      "Spain    Gran Canaria\n",
      "Spain    Gran Canaria\n",
      "Spain          Malaga\n",
      "Spain          Madrid\n",
      "Spain          Aragon\n",
      "Spain     Formentera \n",
      "Spain             NaN\n",
      "Spain             NaN\n",
      "Name: City, dtype: object\n",
      "Country\n",
      "United States           Boston\n",
      "United States              NaN\n",
      "United States              NaN\n",
      "United States              NaN\n",
      "United States              NaN\n",
      "United States              NaN\n",
      "United States              NaN\n",
      "United States              NaN\n",
      "United States              NaN\n",
      "United States           Denver\n",
      "United States              NaN\n",
      "United States              NaN\n",
      "United States          Chicago\n",
      "United States              NaN\n",
      "United States              NaN\n",
      "United States    Washington DC\n",
      "United States              NaN\n",
      "United States           Dallas\n",
      "United States              NaN\n",
      "United States              NaN\n",
      "United States              NaN\n",
      "United States              NaN\n",
      "United States              NaN\n",
      "United States              NaN\n",
      "United States              NaN\n",
      "United States              NaN\n",
      "United States              NaN\n",
      "United States              NaN\n",
      "United States              NaN\n",
      "United States              NaN\n",
      "United States          Houston\n",
      "United States              NaN\n",
      "United States           Austin\n",
      "United States              NaN\n",
      "United States              NaN\n",
      "United States          Houston\n",
      "United States              NaN\n",
      "United States              NaN\n",
      "United States              NaN\n",
      "United States              NaN\n",
      "United States              NaN\n",
      "United States              NaN\n",
      "United States              NaN\n",
      "United States              NaN\n",
      "United States              NaN\n",
      "United States        Anchorage\n",
      "Name: City, dtype: object\n",
      "Country\n",
      "Belgium     Antwerp\n",
      "Belgium     Antwerp\n",
      "Belgium       Liège\n",
      "Belgium         NaN\n",
      "Belgium         NaN\n",
      "Belgium    Brussels\n",
      "Belgium         NaN\n",
      "Belgium    Brussels\n",
      "Belgium         NaN\n",
      "Name: City, dtype: object\n",
      "Country\n",
      "Germany             Munich\n",
      "Germany             Berlin\n",
      "Germany    Jerichower Land\n",
      "Germany       Ortenaukreis\n",
      "Germany          Frankfurt\n",
      "Germany            Ansbach\n",
      "Germany             Munich\n",
      "Germany            Cologne\n",
      "Germany            Cologne\n",
      "Germany            Cologne\n",
      "Germany       Ortenaukreis\n",
      "Germany         Dusseldorf\n",
      "Germany         Dusseldorf\n",
      "Germany            Münster\n",
      "Germany             Berlin\n",
      "Germany             Berlin\n",
      "Germany            Potsdam\n",
      "Germany                NaN\n",
      "Germany            Hamburg\n",
      "Germany             Aachen\n",
      "Germany             Berlin\n",
      "Germany             Berlin\n",
      "Germany             Berlin\n",
      "Germany             Berlin\n",
      "Germany             Berlin\n",
      "Germany     Köln (Cologne)\n",
      "Germany     Köln (Cologne)\n",
      "Germany           Günzburg\n",
      "Germany           Coesfeld\n",
      "Germany             Berlin\n",
      "Germany       Brandenburg \n",
      "Germany          Havelland\n",
      "Germany                NaN\n",
      "Germany                NaN\n",
      "Germany                NaN\n",
      "Germany                NaN\n",
      "Germany                NaN\n",
      "Germany                NaN\n",
      "Germany                NaN\n",
      "Germany                NaN\n",
      "Germany                NaN\n",
      "Germany                NaN\n",
      "Germany                NaN\n",
      "Germany                NaN\n",
      "Germany                NaN\n",
      "Germany                NaN\n",
      "Germany                NaN\n",
      "Germany                NaN\n",
      "Name: City, dtype: object\n",
      "Country\n",
      "Canada        NaN\n",
      "Canada        NaN\n",
      "Canada        NaN\n",
      "Canada        NaN\n",
      "Canada        NaN\n",
      "           ...   \n",
      "Canada    Toronto\n",
      "Canada    Toronto\n",
      "Canada    Toronto\n",
      "Canada    Toronto\n",
      "Canada    Toronto\n",
      "Name: City, Length: 454, dtype: object\n",
      "Country\n",
      "Italy          Rome\n",
      "Italy        Arezzo\n",
      "Italy      Lombardy\n",
      "Italy           NaN\n",
      "Italy         Milan\n",
      "Italy       Bologna\n",
      "Italy         Milan\n",
      "Italy           NaN\n",
      "Italy       Brescia\n",
      "Italy         Monza\n",
      "Italy         Monza\n",
      "Italy         Milan\n",
      "Italy           NaN\n",
      "Italy        Trento\n",
      "Italy           NaN\n",
      "Italy      Piacenza\n",
      "Italy      Piacenza\n",
      "Italy        Padova\n",
      "Italy           NaN\n",
      "Italy    Conversano\n",
      "Italy         Milan\n",
      "Italy         Monza\n",
      "Italy        Varese\n",
      "Italy       Taranto\n",
      "Italy      Sabaudia\n",
      "Italy         Turin\n",
      "Name: City, dtype: object\n",
      "Country\n",
      "Sweden          Stockholm\n",
      "Sweden    Västra Götaland\n",
      "Name: City, dtype: object\n",
      "Country\n",
      "France    île-de-France\n",
      "France    île-de-France\n",
      "France    île-de-France\n",
      "France         Toulouse\n",
      "France             Lyon\n",
      "France              NaN\n",
      "France              NaN\n",
      "France              NaN\n",
      "France              NaN\n",
      "France              NaN\n",
      "France              NaN\n",
      "France              NaN\n",
      "France              NaN\n",
      "France              NaN\n",
      "France              NaN\n",
      "France              NaN\n",
      "France        Marseille\n",
      "France              NaN\n",
      "Name: City, dtype: object\n",
      "Country\n",
      "Australia       Sydney\n",
      "Australia    Melbourne\n",
      "Australia    Melbourne\n",
      "Australia       Sydney\n",
      "Australia       Sydney\n",
      "Australia       Sydney\n",
      "Australia       Sydney\n",
      "Australia          NaN\n",
      "Name: City, dtype: object\n",
      "Country\n",
      "Switzerland    Bern\n",
      "Switzerland     NaN\n",
      "Switzerland     NaN\n",
      "Name: City, dtype: object\n",
      "Country\n",
      "Israel    Tel Aviv\n",
      "Israel         NaN\n",
      "Israel         NaN\n",
      "Name: City, dtype: object\n",
      "Country\n",
      "Austria        Vienna\n",
      "Austria           NaN\n",
      "Austria        Vienna\n",
      "Austria        Vienna\n",
      "Austria        Vienna\n",
      "Austria        Vienna\n",
      "Austria        Vienna\n",
      "Austria        Vienna\n",
      "Austria    Vorarlberg\n",
      "Name: City, dtype: object\n",
      "Country\n",
      "Czech Republic    Prague\n",
      "Czech Republic    Prague\n",
      "Czech Republic    Prague\n",
      "Czech Republic       NaN\n",
      "Czech Republic       NaN\n",
      "Czech Republic       NaN\n",
      "Czech Republic       NaN\n",
      "Czech Republic       NaN\n",
      "Name: City, dtype: object\n",
      "Country\n",
      "Finland         Hus\n",
      "Finland    Helsinki\n",
      "Name: City, dtype: object\n",
      "Country\n",
      "Argentina             NaN\n",
      "Argentina    Buenos Aires\n",
      "Argentina             NaN\n",
      "Argentina      Godoy Cruz\n",
      "Argentina    Buenos Aires\n",
      "Argentina         Cordoba\n",
      "Argentina             NaN\n",
      "Argentina             NaN\n",
      "Argentina             NaN\n",
      "Argentina             NaN\n",
      "Argentina             NaN\n",
      "Argentina             NaN\n",
      "Name: City, dtype: object\n",
      "Country\n",
      "Mexico            NaN\n",
      "Mexico    Mexico City\n",
      "Mexico            NaN\n",
      "Mexico            NaN\n",
      "Mexico            NaN\n",
      "Name: City, dtype: object\n",
      "Gibraltar\n",
      "Country\n",
      "Brazil              Sao Paulo\n",
      "Brazil                Vinhedo\n",
      "Brazil           Porto Alegre\n",
      "Brazil                    NaN\n",
      "Brazil                    NaN\n",
      "Brazil             Indaiatuba\n",
      "Brazil                    NaN\n",
      "Brazil                 Marica\n",
      "Brazil                    NaN\n",
      "Brazil    Rio de Janeiro City\n",
      "Brazil    Rio de Janeiro City\n",
      "Brazil         Belo Horizonte\n",
      "Brazil              Fortaleza\n",
      "Brazil                  Natal\n",
      "Brazil                 Russas\n",
      "Brazil         Belo Horizonte\n",
      "Brazil         Belo Horizonte\n",
      "Brazil               Curitiba\n",
      "Brazil               Curitiba\n",
      "Brazil            Sete Lagoas\n",
      "Brazil            Sete Lagoas\n",
      "Brazil               Cascavel\n",
      "Brazil                    NaN\n",
      "Name: City, dtype: object\n",
      "Warsaw\n",
      "Country\n",
      "Romania    Bucharest\n",
      "Romania    Bucharest\n",
      "Romania    Bucharest\n",
      "Romania    Bucharest\n",
      "Romania          NaN\n",
      "Romania    Bucharest\n",
      "Romania    Bucharest\n",
      "Romania    Bucharest\n",
      "Romania    Bucharest\n",
      "Romania    Bucharest\n",
      "Romania    Bucharest\n",
      "Romania          NaN\n",
      "Romania          NaN\n",
      "Romania          NaN\n",
      "Romania          NaN\n",
      "Romania          NaN\n",
      "Romania          NaN\n",
      "Romania          NaN\n",
      "Romania          NaN\n",
      "Romania          NaN\n",
      "Name: City, dtype: object\n",
      "Country\n",
      "Hungary         NaN\n",
      "Hungary    Budapest\n",
      "Hungary    Budapest\n",
      "Hungary         NaN\n",
      "Hungary         NaN\n",
      "Hungary         NaN\n",
      "Hungary         NaN\n",
      "Hungary         NaN\n",
      "Hungary         NaN\n",
      "Hungary         NaN\n",
      "Hungary         NaN\n",
      "Hungary         NaN\n",
      "Hungary         NaN\n",
      "Hungary         NaN\n",
      "Name: City, dtype: object\n",
      "Country\n",
      "Chile    Santiago\n",
      "Chile         NaN\n",
      "Chile    Santiago\n",
      "Chile        Lima\n",
      "Chile        Lima\n",
      "Chile        Lima\n",
      "Chile         NaN\n",
      "Chile         NaN\n",
      "Chile         NaN\n",
      "Chile         NaN\n",
      "Chile         NaN\n",
      "Chile         NaN\n",
      "Chile         NaN\n",
      "Chile         NaN\n",
      "Chile         NaN\n",
      "Chile         NaN\n",
      "Chile         NaN\n",
      "Chile         NaN\n",
      "Chile         NaN\n",
      "Chile         NaN\n",
      "Name: City, dtype: object\n",
      "Incheon\n",
      "Country\n",
      "South Africa             NaN\n",
      "South Africa       Cape Town\n",
      "South Africa             NaN\n",
      "South Africa             NaN\n",
      "South Africa    Johannesburg\n",
      "Name: City, dtype: object\n",
      "Country\n",
      "Colombia    Bogotá\n",
      "Colombia    Bogotá\n",
      "Colombia    Bogota\n",
      "Name: City, dtype: object\n",
      "Country\n",
      "Peru    Lima\n",
      "Peru     NaN\n",
      "Name: City, dtype: object\n",
      "Country\n",
      "Dominican Republic              NaN\n",
      "Dominican Republic              NaN\n",
      "Dominican Republic              NaN\n",
      "Dominican Republic              NaN\n",
      "Dominican Republic    Santo Domingo\n",
      "Dominican Republic              NaN\n",
      "Dominican Republic              NaN\n",
      "Dominican Republic              NaN\n",
      "Name: City, dtype: object\n",
      "Riyadh\n",
      "Country\n",
      "India      NaN\n",
      "India      NaN\n",
      "India      NaN\n",
      "India      NaN\n",
      "India      NaN\n",
      "India      NaN\n",
      "India    Delhi\n",
      "Name: City, dtype: object\n",
      "Country\n",
      "Thailand     Phuket\n",
      "Thailand        NaN\n",
      "Thailand     Phuket\n",
      "Thailand    Bangkok\n",
      "Thailand        NaN\n",
      "Name: City, dtype: object\n",
      "Country\n",
      "Guatemala               NaN\n",
      "Guatemala    Guatemala City\n",
      "Guatemala    Guatemala City\n",
      "Name: City, dtype: object\n"
     ]
    }
   ],
   "source": [
    "for i in countries:\n",
    "    print(temp[i])"
   ]
  },
  {
   "cell_type": "code",
   "execution_count": 150,
   "metadata": {},
   "outputs": [
    {
     "data": {
      "text/plain": [
       "Country\n",
       "England        London\n",
       "England        London\n",
       "England        London\n",
       "England        London\n",
       "England        London\n",
       "England     Newcastle\n",
       "England        London\n",
       "England    South East\n",
       "England        London\n",
       "England           NaN\n",
       "England           NaN\n",
       "England           NaN\n",
       "England           NaN\n",
       "England           NaN\n",
       "England           NaN\n",
       "England           NaN\n",
       "England           NaN\n",
       "Name: City, dtype: object"
      ]
     },
     "execution_count": 150,
     "metadata": {},
     "output_type": "execute_result"
    }
   ],
   "source": [
    "temp['England']"
   ]
  },
  {
   "cell_type": "code",
   "execution_count": 187,
   "metadata": {},
   "outputs": [
    {
     "data": {
      "text/html": [
       "<div>\n",
       "<style scoped>\n",
       "    .dataframe tbody tr th:only-of-type {\n",
       "        vertical-align: middle;\n",
       "    }\n",
       "\n",
       "    .dataframe tbody tr th {\n",
       "        vertical-align: top;\n",
       "    }\n",
       "\n",
       "    .dataframe thead th {\n",
       "        text-align: right;\n",
       "    }\n",
       "</style>\n",
       "<table border=\"1\" class=\"dataframe\">\n",
       "  <thead>\n",
       "    <tr style=\"text-align: right;\">\n",
       "      <th></th>\n",
       "      <th>level_0</th>\n",
       "      <th>index</th>\n",
       "      <th>Date_confirmation</th>\n",
       "      <th>Country</th>\n",
       "      <th>City</th>\n",
       "      <th>Age</th>\n",
       "      <th>Gender</th>\n",
       "      <th>Symptoms</th>\n",
       "      <th>Hospitalised (Y/N/NA)</th>\n",
       "      <th>Isolated (Y/N/NA)</th>\n",
       "      <th>Travel_history (Y/N/NA)</th>\n",
       "    </tr>\n",
       "  </thead>\n",
       "  <tbody>\n",
       "    <tr>\n",
       "      <th>0</th>\n",
       "      <td>0</td>\n",
       "      <td>26</td>\n",
       "      <td>2022-05-06</td>\n",
       "      <td>England</td>\n",
       "      <td>London</td>\n",
       "      <td>NaN</td>\n",
       "      <td>NaN</td>\n",
       "      <td>rash</td>\n",
       "      <td>Y</td>\n",
       "      <td>Y</td>\n",
       "      <td>Y</td>\n",
       "    </tr>\n",
       "    <tr>\n",
       "      <th>1</th>\n",
       "      <td>1</td>\n",
       "      <td>37</td>\n",
       "      <td>2022-05-12</td>\n",
       "      <td>England</td>\n",
       "      <td>London</td>\n",
       "      <td>NaN</td>\n",
       "      <td>NaN</td>\n",
       "      <td>rash</td>\n",
       "      <td>Y</td>\n",
       "      <td>Y</td>\n",
       "      <td>N</td>\n",
       "    </tr>\n",
       "    <tr>\n",
       "      <th>2</th>\n",
       "      <td>2</td>\n",
       "      <td>38</td>\n",
       "      <td>2022-05-13</td>\n",
       "      <td>England</td>\n",
       "      <td>London</td>\n",
       "      <td>NaN</td>\n",
       "      <td>NaN</td>\n",
       "      <td>vesicular rash</td>\n",
       "      <td>N</td>\n",
       "      <td>Y</td>\n",
       "      <td>N</td>\n",
       "    </tr>\n",
       "    <tr>\n",
       "      <th>3</th>\n",
       "      <td>3</td>\n",
       "      <td>39</td>\n",
       "      <td>2022-05-15</td>\n",
       "      <td>England</td>\n",
       "      <td>London</td>\n",
       "      <td>NaN</td>\n",
       "      <td>male</td>\n",
       "      <td>vesicular rash</td>\n",
       "      <td>Y</td>\n",
       "      <td>Y</td>\n",
       "      <td>N</td>\n",
       "    </tr>\n",
       "    <tr>\n",
       "      <th>4</th>\n",
       "      <td>4</td>\n",
       "      <td>40</td>\n",
       "      <td>2022-05-15</td>\n",
       "      <td>England</td>\n",
       "      <td>London</td>\n",
       "      <td>NaN</td>\n",
       "      <td>male</td>\n",
       "      <td>vesicular rash</td>\n",
       "      <td>NaN</td>\n",
       "      <td>Y</td>\n",
       "      <td>N</td>\n",
       "    </tr>\n",
       "    <tr>\n",
       "      <th>...</th>\n",
       "      <td>...</td>\n",
       "      <td>...</td>\n",
       "      <td>...</td>\n",
       "      <td>...</td>\n",
       "      <td>...</td>\n",
       "      <td>...</td>\n",
       "      <td>...</td>\n",
       "      <td>...</td>\n",
       "      <td>...</td>\n",
       "      <td>...</td>\n",
       "      <td>...</td>\n",
       "    </tr>\n",
       "    <tr>\n",
       "      <th>887</th>\n",
       "      <td>964</td>\n",
       "      <td>39422</td>\n",
       "      <td>2022-08-17</td>\n",
       "      <td>South Africa</td>\n",
       "      <td>Johannesburg</td>\n",
       "      <td>20-40</td>\n",
       "      <td>male</td>\n",
       "      <td>NaN</td>\n",
       "      <td>NaN</td>\n",
       "      <td>NaN</td>\n",
       "      <td>Y</td>\n",
       "    </tr>\n",
       "    <tr>\n",
       "      <th>888</th>\n",
       "      <td>971</td>\n",
       "      <td>42113</td>\n",
       "      <td>2022-08-19</td>\n",
       "      <td>Guatemala</td>\n",
       "      <td>Guatemala City</td>\n",
       "      <td>35-39</td>\n",
       "      <td>male</td>\n",
       "      <td>NaN</td>\n",
       "      <td>NaN</td>\n",
       "      <td>Y</td>\n",
       "      <td>NaN</td>\n",
       "    </tr>\n",
       "    <tr>\n",
       "      <th>889</th>\n",
       "      <td>973</td>\n",
       "      <td>42353</td>\n",
       "      <td>2022-08-21</td>\n",
       "      <td>Dominican Republic</td>\n",
       "      <td>NaN</td>\n",
       "      <td>30-60</td>\n",
       "      <td>male</td>\n",
       "      <td>NaN</td>\n",
       "      <td>Y</td>\n",
       "      <td>NaN</td>\n",
       "      <td>NaN</td>\n",
       "    </tr>\n",
       "    <tr>\n",
       "      <th>890</th>\n",
       "      <td>975</td>\n",
       "      <td>45641</td>\n",
       "      <td>2022-08-24</td>\n",
       "      <td>Dominican Republic</td>\n",
       "      <td>NaN</td>\n",
       "      <td>40-39</td>\n",
       "      <td>male</td>\n",
       "      <td>NaN</td>\n",
       "      <td>NaN</td>\n",
       "      <td>Y</td>\n",
       "      <td>NaN</td>\n",
       "    </tr>\n",
       "    <tr>\n",
       "      <th>891</th>\n",
       "      <td>976</td>\n",
       "      <td>45642</td>\n",
       "      <td>2022-08-24</td>\n",
       "      <td>Dominican Republic</td>\n",
       "      <td>NaN</td>\n",
       "      <td>20-24</td>\n",
       "      <td>male</td>\n",
       "      <td>NaN</td>\n",
       "      <td>NaN</td>\n",
       "      <td>Y</td>\n",
       "      <td>NaN</td>\n",
       "    </tr>\n",
       "  </tbody>\n",
       "</table>\n",
       "<p>892 rows × 11 columns</p>\n",
       "</div>"
      ],
      "text/plain": [
       "     level_0  index Date_confirmation             Country            City  \\\n",
       "0          0     26        2022-05-06             England          London   \n",
       "1          1     37        2022-05-12             England          London   \n",
       "2          2     38        2022-05-13             England          London   \n",
       "3          3     39        2022-05-15             England          London   \n",
       "4          4     40        2022-05-15             England          London   \n",
       "..       ...    ...               ...                 ...             ...   \n",
       "887      964  39422        2022-08-17        South Africa    Johannesburg   \n",
       "888      971  42113        2022-08-19           Guatemala  Guatemala City   \n",
       "889      973  42353        2022-08-21  Dominican Republic             NaN   \n",
       "890      975  45641        2022-08-24  Dominican Republic             NaN   \n",
       "891      976  45642        2022-08-24  Dominican Republic             NaN   \n",
       "\n",
       "       Age Gender        Symptoms Hospitalised (Y/N/NA) Isolated (Y/N/NA)  \\\n",
       "0      NaN    NaN            rash                     Y                 Y   \n",
       "1      NaN    NaN            rash                     Y                 Y   \n",
       "2      NaN    NaN  vesicular rash                     N                 Y   \n",
       "3      NaN   male  vesicular rash                     Y                 Y   \n",
       "4      NaN   male  vesicular rash                   NaN                 Y   \n",
       "..     ...    ...             ...                   ...               ...   \n",
       "887  20-40   male             NaN                   NaN               NaN   \n",
       "888  35-39   male             NaN                   NaN                 Y   \n",
       "889  30-60   male             NaN                     Y               NaN   \n",
       "890  40-39   male             NaN                   NaN                 Y   \n",
       "891  20-24   male             NaN                   NaN                 Y   \n",
       "\n",
       "    Travel_history (Y/N/NA)  \n",
       "0                         Y  \n",
       "1                         N  \n",
       "2                         N  \n",
       "3                         N  \n",
       "4                         N  \n",
       "..                      ...  \n",
       "887                       Y  \n",
       "888                     NaN  \n",
       "889                     NaN  \n",
       "890                     NaN  \n",
       "891                     NaN  \n",
       "\n",
       "[892 rows x 11 columns]"
      ]
     },
     "execution_count": 187,
     "metadata": {},
     "output_type": "execute_result"
    }
   ],
   "source": [
    "monkeyPox_data"
   ]
  },
  {
   "cell_type": "code",
   "execution_count": 246,
   "metadata": {},
   "outputs": [],
   "source": [
    "count=0"
   ]
  },
  {
   "cell_type": "code",
   "execution_count": 283,
   "metadata": {},
   "outputs": [],
   "source": [
    "countryCity={}\n",
    "for i in countries:\n",
    "    if(type(temp[i])==str):\n",
    "        countryCity[i]=temp[i]\n",
    "        # print(temp[i])\n",
    "    else:\n",
    "        # count+=1\n",
    "        # print(count)\n",
    "        # print(list(set(temp[i].values))[0])\n",
    "        countryCity[i]=list(item for item in temp[i].values if not np.nan is item)[0]\n",
    "        "
   ]
  },
  {
   "cell_type": "code",
   "execution_count": 253,
   "metadata": {},
   "outputs": [],
   "source": [
    "t=monkeyPox_data.stack(dropna=False)"
   ]
  },
  {
   "cell_type": "code",
   "execution_count": 252,
   "metadata": {},
   "outputs": [],
   "source": [
    "monkeyPox_data.reset_index(inplace=True)"
   ]
  },
  {
   "cell_type": "code",
   "execution_count": 256,
   "metadata": {},
   "outputs": [
    {
     "data": {
      "text/plain": [
       "level_0                                   976\n",
       "index                                   45642\n",
       "Date_confirmation                  2022-08-24\n",
       "Country                    Dominican Republic\n",
       "City                                      NaN\n",
       "Age                                     20-24\n",
       "Gender                                   male\n",
       "Symptoms                                  NaN\n",
       "Hospitalised (Y/N/NA)                     NaN\n",
       "Isolated (Y/N/NA)                           Y\n",
       "Travel_history (Y/N/NA)                   NaN\n",
       "dtype: object"
      ]
     },
     "execution_count": 256,
     "metadata": {},
     "output_type": "execute_result"
    }
   ],
   "source": [
    "t[891]"
   ]
  },
  {
   "cell_type": "code",
   "execution_count": 192,
   "metadata": {},
   "outputs": [
    {
     "data": {
      "text/plain": [
       "level_0                                50\n",
       "index                                  89\n",
       "Date_confirmation              2022-05-20\n",
       "Country                            Canada\n",
       "City                                  NaN\n",
       "Age                                 20-64\n",
       "Gender                               male\n",
       "Symptoms                   genital ulcers\n",
       "Hospitalised (Y/N/NA)                   N\n",
       "Isolated (Y/N/NA)                       Y\n",
       "Travel_history (Y/N/NA)               NaN\n",
       "dtype: object"
      ]
     },
     "execution_count": 192,
     "metadata": {},
     "output_type": "execute_result"
    }
   ],
   "source": [
    "t[50]"
   ]
  },
  {
   "cell_type": "code",
   "execution_count": 184,
   "metadata": {},
   "outputs": [
    {
     "data": {
      "text/plain": [
       "0    level_0                               0\n",
       "     index                                26\n",
       "     Date_confirmation            2022-05-06\n",
       "     Country                         England\n",
       "     City                             London\n",
       "                                 ...        \n",
       "891  Date_confirmation            2022-08-24\n",
       "     Country              Dominican Republic\n",
       "     Age                               20-24\n",
       "     Gender                             male\n",
       "     Isolated (Y/N/NA)                     Y\n",
       "Length: 7019, dtype: object"
      ]
     },
     "metadata": {},
     "output_type": "display_data"
    }
   ],
   "source": [
    "display(t)"
   ]
  },
  {
   "cell_type": "code",
   "execution_count": 175,
   "metadata": {},
   "outputs": [],
   "source": [
    "monkeyPox_data.reset_index(inplace=True)"
   ]
  },
  {
   "cell_type": "code",
   "execution_count": 257,
   "metadata": {},
   "outputs": [
    {
     "data": {
      "text/plain": [
       "True"
      ]
     },
     "execution_count": 257,
     "metadata": {},
     "output_type": "execute_result"
    }
   ],
   "source": [
    "t[891]['City'] is np.nan"
   ]
  },
  {
   "cell_type": "code",
   "execution_count": 202,
   "metadata": {},
   "outputs": [
    {
     "data": {
      "text/plain": [
       "'Canada'"
      ]
     },
     "execution_count": 202,
     "metadata": {},
     "output_type": "execute_result"
    }
   ],
   "source": [
    "t[50]['Country']"
   ]
  },
  {
   "cell_type": "code",
   "execution_count": 203,
   "metadata": {},
   "outputs": [
    {
     "data": {
      "text/plain": [
       "nan"
      ]
     },
     "execution_count": 203,
     "metadata": {},
     "output_type": "execute_result"
    }
   ],
   "source": [
    "countryCity['Canada']"
   ]
  },
  {
   "cell_type": "code",
   "execution_count": 258,
   "metadata": {},
   "outputs": [
    {
     "data": {
      "text/plain": [
       "250"
      ]
     },
     "execution_count": 258,
     "metadata": {},
     "output_type": "execute_result"
    }
   ],
   "source": [
    "monkeyPox_data['City'].isnull().sum()"
   ]
  },
  {
   "cell_type": "code",
   "execution_count": 284,
   "metadata": {},
   "outputs": [
    {
     "data": {
      "text/plain": [
       "{'England': 'London',\n",
       " 'Portugal': 'Lisbon',\n",
       " 'Spain': 'Madrid',\n",
       " 'United States': 'Boston',\n",
       " 'Belgium': 'Antwerp',\n",
       " 'Germany': 'Munich',\n",
       " 'Canada': \"Clinique l'Actuel, Montreal\",\n",
       " 'Italy': 'Rome',\n",
       " 'Sweden': 'Stockholm',\n",
       " 'France': 'île-de-France',\n",
       " 'Australia': 'Sydney',\n",
       " 'Switzerland': 'Bern',\n",
       " 'Israel': 'Tel Aviv',\n",
       " 'Austria': 'Vienna',\n",
       " 'Czech Republic': 'Prague',\n",
       " 'Finland': 'Hus',\n",
       " 'Argentina': 'Buenos Aires',\n",
       " 'Mexico': 'Mexico City',\n",
       " 'Gibraltar': 'Gibraltar',\n",
       " 'Brazil': 'Sao Paulo',\n",
       " 'Poland': 'Warsaw',\n",
       " 'Romania': 'Bucharest',\n",
       " 'Hungary': 'Budapest',\n",
       " 'Chile': 'Santiago',\n",
       " 'South Korea': 'Incheon',\n",
       " 'South Africa': 'Cape Town',\n",
       " 'Colombia': 'Bogotá',\n",
       " 'Peru': 'Lima',\n",
       " 'Dominican Republic': 'Santo Domingo',\n",
       " 'Saudi Arabia': 'Riyadh',\n",
       " 'India': 'Delhi',\n",
       " 'Thailand': 'Phuket',\n",
       " 'Guatemala': 'Guatemala City'}"
      ]
     },
     "execution_count": 284,
     "metadata": {},
     "output_type": "execute_result"
    }
   ],
   "source": [
    "countryCity"
   ]
  },
  {
   "cell_type": "code",
   "execution_count": 270,
   "metadata": {},
   "outputs": [
    {
     "data": {
      "text/plain": [
       "nan"
      ]
     },
     "execution_count": 270,
     "metadata": {},
     "output_type": "execute_result"
    }
   ],
   "source": [
    "countryCity['Dominican Republic']"
   ]
  },
  {
   "cell_type": "code",
   "execution_count": 277,
   "metadata": {},
   "outputs": [
    {
     "data": {
      "text/plain": [
       "{'Santo Domingo', nan}"
      ]
     },
     "execution_count": 277,
     "metadata": {},
     "output_type": "execute_result"
    }
   ],
   "source": [
    "set(temp['Dominican Republic'].values)"
   ]
  },
  {
   "cell_type": "code",
   "execution_count": 271,
   "metadata": {},
   "outputs": [
    {
     "data": {
      "text/plain": [
       "{'England': 'Newcastle',\n",
       " 'Portugal': 'Lisbon',\n",
       " 'Spain': 'Malaga',\n",
       " 'United States': 'Denver',\n",
       " 'Belgium': 'Liège',\n",
       " 'Germany': 'Havelland',\n",
       " 'Canada': 'Clinique a la Licorne, Montreal',\n",
       " 'Italy': 'Rome',\n",
       " 'Sweden': 'Västra Götaland',\n",
       " 'France': 'Toulouse',\n",
       " 'Australia': 'Melbourne',\n",
       " 'Switzerland': 'Bern',\n",
       " 'Israel': 'Tel Aviv',\n",
       " 'Austria': 'Vorarlberg',\n",
       " 'Czech Republic': 'Prague',\n",
       " 'Finland': 'Hus',\n",
       " 'Argentina': 'Buenos Aires',\n",
       " 'Mexico': 'Mexico City',\n",
       " 'Gibraltar': 'Gibraltar',\n",
       " 'Brazil': 'Porto Alegre',\n",
       " 'Poland': 'Warsaw',\n",
       " 'Romania': 'Bucharest',\n",
       " 'Hungary': 'Budapest',\n",
       " 'Chile': 'Lima',\n",
       " 'South Korea': 'Incheon',\n",
       " 'South Africa': 'Cape Town',\n",
       " 'Colombia': 'Bogotá',\n",
       " 'Peru': 'Lima',\n",
       " 'Dominican Republic': nan,\n",
       " 'Saudi Arabia': 'Riyadh',\n",
       " 'India': 'Delhi',\n",
       " 'Thailand': 'Bangkok',\n",
       " 'Guatemala': 'Guatemala City'}"
      ]
     },
     "execution_count": 271,
     "metadata": {},
     "output_type": "execute_result"
    }
   ],
   "source": [
    "countryCity"
   ]
  },
  {
   "cell_type": "code",
   "execution_count": 269,
   "metadata": {},
   "outputs": [
    {
     "data": {
      "text/plain": [
       "level_0                                   975\n",
       "index                                   45641\n",
       "Date_confirmation                  2022-08-24\n",
       "Country                    Dominican Republic\n",
       "City                                      NaN\n",
       "Age                                     40-39\n",
       "Gender                                   male\n",
       "Symptoms                                  NaN\n",
       "Hospitalised (Y/N/NA)                     NaN\n",
       "Isolated (Y/N/NA)                           Y\n",
       "Travel_history (Y/N/NA)                   NaN\n",
       "dtype: object"
      ]
     },
     "execution_count": 269,
     "metadata": {},
     "output_type": "execute_result"
    }
   ],
   "source": [
    "t[890]"
   ]
  },
  {
   "cell_type": "code",
   "execution_count": 263,
   "metadata": {},
   "outputs": [
    {
     "data": {
      "text/plain": [
       "892"
      ]
     },
     "execution_count": 263,
     "metadata": {},
     "output_type": "execute_result"
    }
   ],
   "source": [
    "len(monkeyPox_data)"
   ]
  },
  {
   "cell_type": "code",
   "execution_count": 285,
   "metadata": {},
   "outputs": [],
   "source": [
    "for i in range(len(monkeyPox_data)):\n",
    "    if(t[i]['City'] is np.nan):\n",
    "        t[i]['City']=countryCity[t[i]['Country']]"
   ]
  },
  {
   "cell_type": "code",
   "execution_count": 286,
   "metadata": {},
   "outputs": [],
   "source": [
    "monkeyPox_data=t.unstack()"
   ]
  },
  {
   "cell_type": "code",
   "execution_count": 302,
   "metadata": {},
   "outputs": [
    {
     "data": {
      "text/html": [
       "<div>\n",
       "<style scoped>\n",
       "    .dataframe tbody tr th:only-of-type {\n",
       "        vertical-align: middle;\n",
       "    }\n",
       "\n",
       "    .dataframe tbody tr th {\n",
       "        vertical-align: top;\n",
       "    }\n",
       "\n",
       "    .dataframe thead th {\n",
       "        text-align: right;\n",
       "    }\n",
       "</style>\n",
       "<table border=\"1\" class=\"dataframe\">\n",
       "  <thead>\n",
       "    <tr style=\"text-align: right;\">\n",
       "      <th></th>\n",
       "      <th>level_0</th>\n",
       "      <th>index</th>\n",
       "      <th>Date_confirmation</th>\n",
       "      <th>Country</th>\n",
       "      <th>City</th>\n",
       "      <th>Age</th>\n",
       "      <th>Gender</th>\n",
       "      <th>Symptoms</th>\n",
       "      <th>Hospitalised (Y/N/NA)</th>\n",
       "      <th>Isolated (Y/N/NA)</th>\n",
       "      <th>Travel_history (Y/N/NA)</th>\n",
       "    </tr>\n",
       "  </thead>\n",
       "  <tbody>\n",
       "    <tr>\n",
       "      <th>count</th>\n",
       "      <td>892</td>\n",
       "      <td>892</td>\n",
       "      <td>892</td>\n",
       "      <td>892</td>\n",
       "      <td>892</td>\n",
       "      <td>762</td>\n",
       "      <td>833</td>\n",
       "      <td>227</td>\n",
       "      <td>305</td>\n",
       "      <td>391</td>\n",
       "      <td>291</td>\n",
       "    </tr>\n",
       "    <tr>\n",
       "      <th>unique</th>\n",
       "      <td>892</td>\n",
       "      <td>892</td>\n",
       "      <td>82</td>\n",
       "      <td>33</td>\n",
       "      <td>131</td>\n",
       "      <td>52</td>\n",
       "      <td>5</td>\n",
       "      <td>50</td>\n",
       "      <td>2</td>\n",
       "      <td>2</td>\n",
       "      <td>2</td>\n",
       "    </tr>\n",
       "    <tr>\n",
       "      <th>top</th>\n",
       "      <td>0</td>\n",
       "      <td>26</td>\n",
       "      <td>2022-08-02</td>\n",
       "      <td>Canada</td>\n",
       "      <td>Toronto</td>\n",
       "      <td>20-69</td>\n",
       "      <td>male</td>\n",
       "      <td>fever</td>\n",
       "      <td>Y</td>\n",
       "      <td>Y</td>\n",
       "      <td>Y</td>\n",
       "    </tr>\n",
       "    <tr>\n",
       "      <th>freq</th>\n",
       "      <td>1</td>\n",
       "      <td>1</td>\n",
       "      <td>58</td>\n",
       "      <td>454</td>\n",
       "      <td>286</td>\n",
       "      <td>153</td>\n",
       "      <td>803</td>\n",
       "      <td>49</td>\n",
       "      <td>173</td>\n",
       "      <td>389</td>\n",
       "      <td>207</td>\n",
       "    </tr>\n",
       "  </tbody>\n",
       "</table>\n",
       "</div>"
      ],
      "text/plain": [
       "        level_0  index Date_confirmation Country     City    Age Gender  \\\n",
       "count       892    892               892     892      892    762    833   \n",
       "unique      892    892                82      33      131     52      5   \n",
       "top           0     26        2022-08-02  Canada  Toronto  20-69   male   \n",
       "freq          1      1                58     454      286    153    803   \n",
       "\n",
       "       Symptoms Hospitalised (Y/N/NA) Isolated (Y/N/NA)  \\\n",
       "count       227                   305               391   \n",
       "unique       50                     2                 2   \n",
       "top       fever                     Y                 Y   \n",
       "freq         49                   173               389   \n",
       "\n",
       "       Travel_history (Y/N/NA)  \n",
       "count                      291  \n",
       "unique                       2  \n",
       "top                          Y  \n",
       "freq                       207  "
      ]
     },
     "execution_count": 302,
     "metadata": {},
     "output_type": "execute_result"
    }
   ],
   "source": [
    "monkeyPox_data.describe()"
   ]
  },
  {
   "cell_type": "code",
   "execution_count": null,
   "metadata": {},
   "outputs": [],
   "source": [
    "monkeyPox_data"
   ]
  },
  {
   "cell_type": "code",
   "execution_count": 301,
   "metadata": {},
   "outputs": [
    {
     "data": {
      "text/plain": [
       "0      20-69\n",
       "1      20-69\n",
       "2      20-69\n",
       "3      20-69\n",
       "4      20-69\n",
       "       ...  \n",
       "887    20-40\n",
       "888    35-39\n",
       "889    30-60\n",
       "890    40-39\n",
       "891    20-24\n",
       "Name: Age, Length: 892, dtype: object"
      ]
     },
     "execution_count": 301,
     "metadata": {},
     "output_type": "execute_result"
    }
   ],
   "source": [
    "monkeyPox_data['Age'].fillna(temp['Age']['top'])"
   ]
  },
  {
   "cell_type": "code",
   "execution_count": 294,
   "metadata": {},
   "outputs": [],
   "source": [
    "temp=monkeyPox_data.describe()"
   ]
  },
  {
   "cell_type": "code",
   "execution_count": 299,
   "metadata": {},
   "outputs": [
    {
     "data": {
      "text/plain": [
       "'20-69'"
      ]
     },
     "execution_count": 299,
     "metadata": {},
     "output_type": "execute_result"
    }
   ],
   "source": [
    "temp['Age']['top']"
   ]
  },
  {
   "cell_type": "code",
   "execution_count": 303,
   "metadata": {},
   "outputs": [],
   "source": [
    "for col in monkeyPox_data.columns:\n",
    "    monkeyPox_data[col].fillna(temp[col]['top'],inplace=True)"
   ]
  },
  {
   "cell_type": "code",
   "execution_count": 304,
   "metadata": {},
   "outputs": [
    {
     "data": {
      "text/plain": [
       "level_0                    0\n",
       "index                      0\n",
       "Date_confirmation          0\n",
       "Country                    0\n",
       "City                       0\n",
       "Age                        0\n",
       "Gender                     0\n",
       "Symptoms                   0\n",
       "Hospitalised (Y/N/NA)      0\n",
       "Isolated (Y/N/NA)          0\n",
       "Travel_history (Y/N/NA)    0\n",
       "dtype: int64"
      ]
     },
     "execution_count": 304,
     "metadata": {},
     "output_type": "execute_result"
    }
   ],
   "source": [
    "monkeyPox_data.isnull().sum()"
   ]
  },
  {
   "cell_type": "code",
   "execution_count": 305,
   "metadata": {},
   "outputs": [
    {
     "data": {
      "text/plain": [
       "level_0                    892\n",
       "index                      892\n",
       "Date_confirmation          892\n",
       "Country                    892\n",
       "City                       892\n",
       "Age                        892\n",
       "Gender                     892\n",
       "Symptoms                   892\n",
       "Hospitalised (Y/N/NA)      892\n",
       "Isolated (Y/N/NA)          892\n",
       "Travel_history (Y/N/NA)    892\n",
       "dtype: int64"
      ]
     },
     "execution_count": 305,
     "metadata": {},
     "output_type": "execute_result"
    }
   ],
   "source": [
    "monkeyPox_data.count()"
   ]
  },
  {
   "cell_type": "code",
   "execution_count": null,
   "metadata": {},
   "outputs": [],
   "source": []
  }
 ],
 "metadata": {
  "kernelspec": {
   "display_name": "Python 3.10.4 64-bit",
   "language": "python",
   "name": "python3"
  },
  "language_info": {
   "codemirror_mode": {
    "name": "ipython",
    "version": 3
   },
   "file_extension": ".py",
   "mimetype": "text/x-python",
   "name": "python",
   "nbconvert_exporter": "python",
   "pygments_lexer": "ipython3",
   "version": "3.10.4"
  },
  "orig_nbformat": 4,
  "vscode": {
   "interpreter": {
    "hash": "369f2c481f4da34e4445cda3fffd2e751bd1c4d706f27375911949ba6bb62e1c"
   }
  }
 },
 "nbformat": 4,
 "nbformat_minor": 2
}
